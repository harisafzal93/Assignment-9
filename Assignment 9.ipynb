{
 "cells": [
  {
   "cell_type": "markdown",
   "id": "08c6f865-228d-4bdd-a20f-d9d44de0c731",
   "metadata": {},
   "source": [
    "## ***15. How Much ALBERT PARDINI Make (Include TotalPayBenefits)?***"
   ]
  },
  {
   "cell_type": "code",
   "execution_count": 103,
   "id": "8d5acb84-5bb7-45ec-b072-bf25539bc353",
   "metadata": {},
   "outputs": [],
   "source": [
    "import pandas as pd"
   ]
  },
  {
   "cell_type": "code",
   "execution_count": 104,
   "id": "9b497150-a1bb-43b1-bed3-54eb581262a0",
   "metadata": {},
   "outputs": [
    {
     "data": {
      "text/plain": [
       "335279.91"
      ]
     },
     "execution_count": 104,
     "metadata": {},
     "output_type": "execute_result"
    }
   ],
   "source": [
    "df.loc[df['EmployeeName'] == \"ALBERT PARDINI\", 'TotalPayBenefits'].values[0]"
   ]
  },
  {
   "cell_type": "markdown",
   "id": "6e87478b-ff26-4fdb-88ef-2c3f65d8c91b",
   "metadata": {},
   "source": [
    "## ***16. Display Name of The Person Having The Highest BasePay***"
   ]
  },
  {
   "cell_type": "code",
   "execution_count": 106,
   "id": "6c1cb88a-606b-4b97-bded-8cd62c7a291e",
   "metadata": {},
   "outputs": [
    {
     "data": {
      "text/plain": [
       "'Gregory P Suhr'"
      ]
     },
     "execution_count": 106,
     "metadata": {},
     "output_type": "execute_result"
    }
   ],
   "source": [
    "df.loc[df['BasePay'].idxmax(), 'EmployeeName']"
   ]
  },
  {
   "cell_type": "markdown",
   "id": "cef77e00-e378-4606-94ac-fc296d140959",
   "metadata": {},
   "source": [
    "## ***17. Find Average BasePay Of All Employee Per Year***"
   ]
  },
  {
   "cell_type": "code",
   "execution_count": 108,
   "id": "0af48538-bb4c-48e6-81d7-69fbf6629e60",
   "metadata": {},
   "outputs": [
    {
     "data": {
      "text/plain": [
       "Year\n",
       "2011    63595.956517\n",
       "2012    65436.406857\n",
       "2013    69630.030216\n",
       "2014    66564.421924\n",
       "Name: BasePay, dtype: float64"
      ]
     },
     "execution_count": 108,
     "metadata": {},
     "output_type": "execute_result"
    }
   ],
   "source": [
    "df.groupby('Year')['BasePay'].mean()"
   ]
  },
  {
   "cell_type": "markdown",
   "id": "7e67dc31-c2bf-4ef5-ad6e-516d55cc8eda",
   "metadata": {},
   "source": [
    "## ***18. Find Average BasePay Of All Employee Per Job Title***"
   ]
  },
  {
   "cell_type": "code",
   "execution_count": 110,
   "id": "2c03b5fd-c3d3-4e08-8a5d-1fa14a3fecac",
   "metadata": {},
   "outputs": [
    {
     "data": {
      "text/plain": [
       "JobTitle\n",
       "ACCOUNT CLERK                                     43300.806506\n",
       "ACCOUNTANT                                        46643.172000\n",
       "ACCOUNTANT INTERN                                 28732.663958\n",
       "ACPO,JuvP, Juv Prob (SFERS)                       62290.780000\n",
       "ACUPUNCTURIST                                     66374.400000\n",
       "                                                      ...     \n",
       "X-RAY LABORATORY AIDE                             47664.773077\n",
       "X-Ray Laboratory Aide                             46086.387100\n",
       "YOUTH COMMISSION ADVISOR, BOARD OF SUPERVISORS    52609.910000\n",
       "Youth Comm Advisor                                39077.957500\n",
       "ZOO CURATOR                                       43148.000000\n",
       "Name: BasePay, Length: 2159, dtype: float64"
      ]
     },
     "execution_count": 110,
     "metadata": {},
     "output_type": "execute_result"
    }
   ],
   "source": [
    "df.groupby('JobTitle')['BasePay'].mean()"
   ]
  },
  {
   "cell_type": "markdown",
   "id": "138fbfdb-311d-4600-b390-d20f9d66259c",
   "metadata": {},
   "source": [
    "## ***19. Find Average BasePay Of Employee Having Job Title ACCOUNTANT***"
   ]
  },
  {
   "cell_type": "code",
   "execution_count": 112,
   "id": "c6a28588-aaa9-44b8-9324-9fa8f1f7493b",
   "metadata": {},
   "outputs": [
    {
     "data": {
      "text/plain": [
       "46643.172"
      ]
     },
     "execution_count": 112,
     "metadata": {},
     "output_type": "execute_result"
    }
   ],
   "source": [
    "df[df['JobTitle'] == \"ACCOUNTANT\"]['BasePay'].mean()"
   ]
  },
  {
   "cell_type": "markdown",
   "id": "2559e392-f3e4-4f94-8c5a-a153f40cbff6",
   "metadata": {},
   "source": [
    "## ***20. Find Top 5 Most Common Jobs***"
   ]
  },
  {
   "cell_type": "code",
   "execution_count": 114,
   "id": "cf2c5247-bbe4-4784-b85e-24dcf19be050",
   "metadata": {},
   "outputs": [
    {
     "data": {
      "text/plain": [
       "JobTitle\n",
       "Transit Operator                7036\n",
       "Special Nurse                   4389\n",
       "Registered Nurse                3736\n",
       "Public Svc Aide-Public Works    2518\n",
       "Police Officer 3                2421\n",
       "Name: count, dtype: int64"
      ]
     },
     "execution_count": 114,
     "metadata": {},
     "output_type": "execute_result"
    }
   ],
   "source": [
    "df['JobTitle'].value_counts().head(5)"
   ]
  },
  {
   "cell_type": "code",
   "execution_count": null,
   "id": "2fe9d977-2037-4dc3-a5c7-f2cad5fcdab5",
   "metadata": {},
   "outputs": [],
   "source": []
  }
 ],
 "metadata": {
  "kernelspec": {
   "display_name": "Python 3 (ipykernel)",
   "language": "python",
   "name": "python3"
  },
  "language_info": {
   "codemirror_mode": {
    "name": "ipython",
    "version": 3
   },
   "file_extension": ".py",
   "mimetype": "text/x-python",
   "name": "python",
   "nbconvert_exporter": "python",
   "pygments_lexer": "ipython3",
   "version": "3.12.4"
  }
 },
 "nbformat": 4,
 "nbformat_minor": 5
}
