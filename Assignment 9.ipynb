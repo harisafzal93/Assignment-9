{
 "cells": [
  {
   "cell_type": "markdown",
   "id": "08c6f865-228d-4bdd-a20f-d9d44de0c731",
   "metadata": {},
   "source": [
    "## ***15. How Much ALBERT PARDINI Make (Include TotalPayBenefits)?***"
   ]
  },
  {
   "cell_type": "code",
   "execution_count": 16,
   "id": "8d5acb84-5bb7-45ec-b072-bf25539bc353",
   "metadata": {},
   "outputs": [],
   "source": [
    "import pandas as pd"
   ]
  },
  {
   "cell_type": "code",
   "execution_count": 19,
   "id": "9b497150-a1bb-43b1-bed3-54eb581262a0",
   "metadata": {},
   "outputs": [],
   "source": [
    "pardini_salary = df[df['EmployeeName'] == \"ALBERT PARDINI\"]"
   ]
  },
  {
   "cell_type": "code",
   "execution_count": 21,
   "id": "97e4e779-973f-4472-99cd-d0920d92d06c",
   "metadata": {},
   "outputs": [],
   "source": [
    "total_pay_benefits = pardini_salary['TotalPayBenefits'].values[0]"
   ]
  },
  {
   "cell_type": "code",
   "execution_count": 23,
   "id": "1e665cec-57f1-4a22-bad2-c984fbbf09b4",
   "metadata": {},
   "outputs": [
    {
     "name": "stdout",
     "output_type": "stream",
     "text": [
      "335279.91\n"
     ]
    }
   ],
   "source": [
    "print(total_pay_benefits)"
   ]
  },
  {
   "cell_type": "markdown",
   "id": "6e87478b-ff26-4fdb-88ef-2c3f65d8c91b",
   "metadata": {},
   "source": [
    "## ***16. Display Name of The Person Having The Highest BasePay***"
   ]
  },
  {
   "cell_type": "code",
   "execution_count": 28,
   "id": "6c1cb88a-606b-4b97-bded-8cd62c7a291e",
   "metadata": {},
   "outputs": [],
   "source": [
    "df['BasePay'] = pd.to_numeric(df['BasePay'], errors='coerce')"
   ]
  },
  {
   "cell_type": "code",
   "execution_count": 30,
   "id": "d4d30ad2-f36e-4681-bc1b-6296b1387224",
   "metadata": {},
   "outputs": [],
   "source": [
    "highest_basepay_person = df.loc[df['BasePay'].idxmax()]"
   ]
  },
  {
   "cell_type": "code",
   "execution_count": 32,
   "id": "78064d16-61cd-40fc-8264-c5bbb0c631d1",
   "metadata": {},
   "outputs": [],
   "source": [
    "highest_basepay_name = highest_basepay_person['EmployeeName']"
   ]
  },
  {
   "cell_type": "code",
   "execution_count": 34,
   "id": "dce464c5-ccdb-4cda-bfd3-0bb3b423f4f1",
   "metadata": {},
   "outputs": [
    {
     "name": "stdout",
     "output_type": "stream",
     "text": [
      "Gregory P Suhr\n"
     ]
    }
   ],
   "source": [
    "print(highest_basepay_name)"
   ]
  },
  {
   "cell_type": "markdown",
   "id": "cef77e00-e378-4606-94ac-fc296d140959",
   "metadata": {},
   "source": [
    "## ***17. Find Average BasePay Of All Employee Per Year***"
   ]
  },
  {
   "cell_type": "code",
   "execution_count": 39,
   "id": "0af48538-bb4c-48e6-81d7-69fbf6629e60",
   "metadata": {},
   "outputs": [],
   "source": [
    "average_basepay_per_year = df.groupby('Year')['BasePay'].mean()"
   ]
  },
  {
   "cell_type": "code",
   "execution_count": 41,
   "id": "e967a21d-7f9b-4cb2-b155-cd76ea1d9294",
   "metadata": {},
   "outputs": [
    {
     "name": "stdout",
     "output_type": "stream",
     "text": [
      "Year\n",
      "2011    63595.956517\n",
      "2012    65436.406857\n",
      "2013    69630.030216\n",
      "2014    66564.421924\n",
      "Name: BasePay, dtype: float64\n"
     ]
    }
   ],
   "source": [
    "print(average_basepay_per_year)"
   ]
  },
  {
   "cell_type": "markdown",
   "id": "7e67dc31-c2bf-4ef5-ad6e-516d55cc8eda",
   "metadata": {},
   "source": [
    "## ***18. Find Average BasePay Of All Employee Per Job Title***"
   ]
  },
  {
   "cell_type": "code",
   "execution_count": 44,
   "id": "2c03b5fd-c3d3-4e08-8a5d-1fa14a3fecac",
   "metadata": {},
   "outputs": [],
   "source": [
    "df['BasePay'] = pd.to_numeric(df['BasePay'], errors='coerce')"
   ]
  },
  {
   "cell_type": "code",
   "execution_count": 46,
   "id": "96759694-764f-4bb9-bac5-48dae6f84ed2",
   "metadata": {},
   "outputs": [],
   "source": [
    "average_basepay_per_job_title = df.groupby('JobTitle')['BasePay'].mean()"
   ]
  },
  {
   "cell_type": "code",
   "execution_count": 48,
   "id": "c48f577a-b530-481c-a573-0b228f271a91",
   "metadata": {},
   "outputs": [
    {
     "name": "stdout",
     "output_type": "stream",
     "text": [
      "JobTitle\n",
      "ACCOUNT CLERK                                     43300.806506\n",
      "ACCOUNTANT                                        46643.172000\n",
      "ACCOUNTANT INTERN                                 28732.663958\n",
      "ACPO,JuvP, Juv Prob (SFERS)                       62290.780000\n",
      "ACUPUNCTURIST                                     66374.400000\n",
      "                                                      ...     \n",
      "X-RAY LABORATORY AIDE                             47664.773077\n",
      "X-Ray Laboratory Aide                             46086.387100\n",
      "YOUTH COMMISSION ADVISOR, BOARD OF SUPERVISORS    52609.910000\n",
      "Youth Comm Advisor                                39077.957500\n",
      "ZOO CURATOR                                       43148.000000\n",
      "Name: BasePay, Length: 2159, dtype: float64\n"
     ]
    }
   ],
   "source": [
    "print(average_basepay_per_job_title)"
   ]
  },
  {
   "cell_type": "markdown",
   "id": "138fbfdb-311d-4600-b390-d20f9d66259c",
   "metadata": {},
   "source": [
    "## ***19. Find Average BasePay Of Employee Having Job Title ACCOUNTANT***"
   ]
  },
  {
   "cell_type": "code",
   "execution_count": null,
   "id": "c6a28588-aaa9-44b8-9324-9fa8f1f7493b",
   "metadata": {},
   "outputs": [],
   "source": []
  }
 ],
 "metadata": {
  "kernelspec": {
   "display_name": "Python 3 (ipykernel)",
   "language": "python",
   "name": "python3"
  },
  "language_info": {
   "codemirror_mode": {
    "name": "ipython",
    "version": 3
   },
   "file_extension": ".py",
   "mimetype": "text/x-python",
   "name": "python",
   "nbconvert_exporter": "python",
   "pygments_lexer": "ipython3",
   "version": "3.12.4"
  }
 },
 "nbformat": 4,
 "nbformat_minor": 5
}
